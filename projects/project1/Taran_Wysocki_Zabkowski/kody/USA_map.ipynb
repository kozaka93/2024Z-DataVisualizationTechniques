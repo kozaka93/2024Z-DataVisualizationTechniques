{
 "cells": [
  {
   "cell_type": "code",
   "execution_count": null,
   "id": "e42b2d06",
   "metadata": {},
   "outputs": [],
   "source": [
    "import numpy as np\n",
    "import pandas as pd\n",
    "import seaborn as sns"
   ]
  },
  {
   "cell_type": "code",
   "execution_count": null,
   "id": "bbee573e",
   "metadata": {},
   "outputs": [],
   "source": [
    "data = pd.read_csv(path)"
   ]
  },
  {
   "cell_type": "code",
   "execution_count": null,
   "id": "1dacb918",
   "metadata": {},
   "outputs": [],
   "source": [
    "data = data.query(\"Year!='1999 - 2010' & Year!='2010 - 2019'\")\n",
    "data = data.drop(columns=[\"GeographicLevel\",\"DataSource\",\"Class\",\"LocationID\",\"StratificationCategory1\",\n",
    "                         \"StratificationCategory3\",\"StratificationCategory2\",\n",
    "                         \"Confidence_limit_Low\",\"Confidence_limit_High\",\n",
    "                         \"Data_Value_Footnote_Symbol\",\"Data_Value_Footnote\",\"Data_Value_Unit\",\n",
    "                         \"Data_Value_Type\",\"Stratification2\"])\n",
    "data[\"Year\"] = data[\"Year\"].astype(int)\n",
    "data = data.dropna()\n",
    "data = data[data[\"Stratification3\"]!=\"Overall\"]\n"
   ]
  },
  {
   "cell_type": "code",
   "execution_count": null,
   "id": "5753f7ac",
   "metadata": {},
   "outputs": [],
   "source": [
    "df = data.query(\"(Year == 2019 or Year==2018 or Year==2017) and Topic=='All heart disease'\").groupby([\"LocationAbbr\"])[\"Data_Value\"].mean()\n",
    "df = df.reset_index()"
   ]
  },
  {
   "cell_type": "code",
   "execution_count": null,
   "id": "6eef07ca",
   "metadata": {},
   "outputs": [],
   "source": [
    "import plotly.express as px\n",
    "\n",
    "\n",
    "fig = px.choropleth(\n",
    "    df,\n",
    "    locations='LocationAbbr',\n",
    "    locationmode=\"USA-states\",\n",
    "    color='Data_Value',\n",
    "    scope=\"usa\",\n",
    "    color_continuous_scale=[\"#DAD4B5\", \"#D85d4C\"], \n",
    "    range_color=(df['Data_Value'].min(), df['Data_Value'].max())  \n",
    ")\n",
    "\n",
    "\n",
    "fig.update_layout(\n",
    "    title_x=0.5,\n",
    "    width=1000,\n",
    "    height=600,\n",
    "    coloraxis_colorbar=dict(\n",
    "        title=dict(font=dict(size=14, color=\"white\")),  \n",
    "        tickfont=dict(size=18, color=\"white\"), \n",
    "        thickness=15,  \n",
    "        len=0.7,  \n",
    "        y=0.5,  \n",
    "    ),\n",
    ")\n",
    "\n",
    "fig.update_layout(\n",
    "    paper_bgcolor='rgba(0,0,0,0)',  \n",
    "    plot_bgcolor='rgba(0,0,0,0)'  \n",
    ")\n",
    "\n",
    "\n",
    "fig.update_geos(\n",
    "    showlakes=False,\n",
    "    subunitcolor=\"white\",\n",
    "    subunitwidth=100\n",
    ")\n",
    "\n",
    "fig.show()"
   ]
  },
  {
   "cell_type": "code",
   "execution_count": null,
   "id": "9b0b7c77",
   "metadata": {},
   "outputs": [],
   "source": [
    "import plotly.io as pio\n",
    "\n",
    "\n",
    "pio.write_image(fig, 'choropleth_map.png', scale=3)"
   ]
  }
 ],
 "metadata": {
  "kernelspec": {
   "display_name": "Python 3 (ipykernel)",
   "language": "python",
   "name": "python3"
  },
  "language_info": {
   "codemirror_mode": {
    "name": "ipython",
    "version": 3
   },
   "file_extension": ".py",
   "mimetype": "text/x-python",
   "name": "python",
   "nbconvert_exporter": "python",
   "pygments_lexer": "ipython3",
   "version": "3.11.5"
  }
 },
 "nbformat": 4,
 "nbformat_minor": 5
}
