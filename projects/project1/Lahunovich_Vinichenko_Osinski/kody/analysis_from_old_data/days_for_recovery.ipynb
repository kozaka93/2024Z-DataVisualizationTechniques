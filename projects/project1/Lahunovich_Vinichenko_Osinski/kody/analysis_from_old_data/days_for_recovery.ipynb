{
 "cells": [
  {
   "cell_type": "code",
   "execution_count": 16,
   "id": "4325db3c",
   "metadata": {},
   "outputs": [],
   "source": [
    "library(worldfootballR)\n",
    "library(dplyr)\n",
    "library(ggplot2)"
   ]
  },
  {
   "cell_type": "code",
   "execution_count": 7,
   "id": "34c1bcbd",
   "metadata": {},
   "outputs": [],
   "source": [
    "premier_player_injuries <- read.csv(\"/home/yahor/Documents/uni/sem_3/twd/football-injuries/data/premier_player_injuries.csv\")\n",
    "france_player_injuries <- read.csv(\"/home/yahor/Documents/uni/sem_3/twd/football-injuries/data/france_player_injuries\")\n",
    "spain_player_injuries <- read.csv(\"/home/yahor/Documents/uni/sem_3/twd/football-injuries/data/spain_player_injuries\")\n",
    "italy_player_injuries <- read.csv(\"/home/yahor/Documents/uni/sem_3/twd/football-injuries/data/italy_player_injuries\")\n",
    "germany_player_injuries <- read.csv(\"/home/yahor/Documents/uni/sem_3/twd/football-injuries/data/germany_player_injuries\")"
   ]
  },
  {
   "cell_type": "code",
   "execution_count": 33,
   "id": "5580e14b",
   "metadata": {},
   "outputs": [],
   "source": [
    "injuries <- rbind(premier_player_injuries, france_player_injuries,\n",
    "                      spain_player_injuries, italy_player_injuries,\n",
    "                      germany_player_injuries)"
   ]
  },
  {
   "cell_type": "code",
   "execution_count": 34,
   "id": "9a408e1e",
   "metadata": {},
   "outputs": [],
   "source": [
    "injury_days <- data.frame(table(na.omit(injuries$duration)))"
   ]
  },
  {
   "cell_type": "code",
   "execution_count": 36,
   "id": "cb6981e6",
   "metadata": {},
   "outputs": [
    {
     "data": {
      "text/html": [
       "<table class=\"dataframe\">\n",
       "<caption>A data.frame: 6 × 2</caption>\n",
       "<thead>\n",
       "\t<tr><th></th><th scope=col>Var1</th><th scope=col>Freq</th></tr>\n",
       "\t<tr><th></th><th scope=col>&lt;fct&gt;</th><th scope=col>&lt;int&gt;</th></tr>\n",
       "</thead>\n",
       "<tbody>\n",
       "\t<tr><th scope=row>1</th><td>? days  </td><td>   3</td></tr>\n",
       "\t<tr><th scope=row>2</th><td>0 days  </td><td> 287</td></tr>\n",
       "\t<tr><th scope=row>3</th><td>1 days  </td><td> 129</td></tr>\n",
       "\t<tr><th scope=row>4</th><td>10 days </td><td>1171</td></tr>\n",
       "\t<tr><th scope=row>5</th><td>100 days</td><td>  17</td></tr>\n",
       "\t<tr><th scope=row>6</th><td>101 days</td><td>  32</td></tr>\n",
       "</tbody>\n",
       "</table>\n"
      ],
      "text/latex": [
       "A data.frame: 6 × 2\n",
       "\\begin{tabular}{r|ll}\n",
       "  & Var1 & Freq\\\\\n",
       "  & <fct> & <int>\\\\\n",
       "\\hline\n",
       "\t1 & ? days   &    3\\\\\n",
       "\t2 & 0 days   &  287\\\\\n",
       "\t3 & 1 days   &  129\\\\\n",
       "\t4 & 10 days  & 1171\\\\\n",
       "\t5 & 100 days &   17\\\\\n",
       "\t6 & 101 days &   32\\\\\n",
       "\\end{tabular}\n"
      ],
      "text/markdown": [
       "\n",
       "A data.frame: 6 × 2\n",
       "\n",
       "| <!--/--> | Var1 &lt;fct&gt; | Freq &lt;int&gt; |\n",
       "|---|---|---|\n",
       "| 1 | ? days   |    3 |\n",
       "| 2 | 0 days   |  287 |\n",
       "| 3 | 1 days   |  129 |\n",
       "| 4 | 10 days  | 1171 |\n",
       "| 5 | 100 days |   17 |\n",
       "| 6 | 101 days |   32 |\n",
       "\n"
      ],
      "text/plain": [
       "  Var1     Freq\n",
       "1 ? days      3\n",
       "2 0 days    287\n",
       "3 1 days    129\n",
       "4 10 days  1171\n",
       "5 100 days   17\n",
       "6 101 days   32"
      ]
     },
     "metadata": {},
     "output_type": "display_data"
    }
   ],
   "source": [
    "head(injury_days)"
   ]
  },
  {
   "cell_type": "code",
   "execution_count": 37,
   "id": "6660d4cd",
   "metadata": {},
   "outputs": [
    {
     "name": "stderr",
     "output_type": "stream",
     "text": [
      "Warning message in eval(expr, envir, enclos):\n",
      "“NAs introduced by coercion”\n"
     ]
    }
   ],
   "source": [
    "injury_days$Var1 <- as.numeric(gsub(\"([0-9]+).*$\", \"\\\\1\", injury_days$Var1))"
   ]
  },
  {
   "cell_type": "code",
   "execution_count": 38,
   "id": "b58f388d",
   "metadata": {},
   "outputs": [
    {
     "data": {
      "text/html": [
       "<table class=\"dataframe\">\n",
       "<caption>A data.frame: 6 × 2</caption>\n",
       "<thead>\n",
       "\t<tr><th></th><th scope=col>Var1</th><th scope=col>Freq</th></tr>\n",
       "\t<tr><th></th><th scope=col>&lt;dbl&gt;</th><th scope=col>&lt;int&gt;</th></tr>\n",
       "</thead>\n",
       "<tbody>\n",
       "\t<tr><th scope=row>1</th><td> NA</td><td>   3</td></tr>\n",
       "\t<tr><th scope=row>2</th><td>  0</td><td> 287</td></tr>\n",
       "\t<tr><th scope=row>3</th><td>  1</td><td> 129</td></tr>\n",
       "\t<tr><th scope=row>4</th><td> 10</td><td>1171</td></tr>\n",
       "\t<tr><th scope=row>5</th><td>100</td><td>  17</td></tr>\n",
       "\t<tr><th scope=row>6</th><td>101</td><td>  32</td></tr>\n",
       "</tbody>\n",
       "</table>\n"
      ],
      "text/latex": [
       "A data.frame: 6 × 2\n",
       "\\begin{tabular}{r|ll}\n",
       "  & Var1 & Freq\\\\\n",
       "  & <dbl> & <int>\\\\\n",
       "\\hline\n",
       "\t1 &  NA &    3\\\\\n",
       "\t2 &   0 &  287\\\\\n",
       "\t3 &   1 &  129\\\\\n",
       "\t4 &  10 & 1171\\\\\n",
       "\t5 & 100 &   17\\\\\n",
       "\t6 & 101 &   32\\\\\n",
       "\\end{tabular}\n"
      ],
      "text/markdown": [
       "\n",
       "A data.frame: 6 × 2\n",
       "\n",
       "| <!--/--> | Var1 &lt;dbl&gt; | Freq &lt;int&gt; |\n",
       "|---|---|---|\n",
       "| 1 |  NA |    3 |\n",
       "| 2 |   0 |  287 |\n",
       "| 3 |   1 |  129 |\n",
       "| 4 |  10 | 1171 |\n",
       "| 5 | 100 |   17 |\n",
       "| 6 | 101 |   32 |\n",
       "\n"
      ],
      "text/plain": [
       "  Var1 Freq\n",
       "1  NA     3\n",
       "2   0   287\n",
       "3   1   129\n",
       "4  10  1171\n",
       "5 100    17\n",
       "6 101    32"
      ]
     },
     "metadata": {},
     "output_type": "display_data"
    }
   ],
   "source": [
    "head(injury_days)"
   ]
  },
  {
   "cell_type": "code",
   "execution_count": 42,
   "id": "923a5b5b",
   "metadata": {},
   "outputs": [],
   "source": [
    "injury_days <- injury_days[injury_days$Var1 != 0,]\n",
    "injury_days <- na.omit(injury_days)"
   ]
  },
  {
   "cell_type": "code",
   "execution_count": 43,
   "id": "31295000",
   "metadata": {},
   "outputs": [
    {
     "data": {
      "text/html": [
       "<table class=\"dataframe\">\n",
       "<caption>A data.frame: 6 × 2</caption>\n",
       "<thead>\n",
       "\t<tr><th></th><th scope=col>Var1</th><th scope=col>Freq</th></tr>\n",
       "\t<tr><th></th><th scope=col>&lt;dbl&gt;</th><th scope=col>&lt;int&gt;</th></tr>\n",
       "</thead>\n",
       "<tbody>\n",
       "\t<tr><th scope=row>3</th><td>  1</td><td> 129</td></tr>\n",
       "\t<tr><th scope=row>4</th><td> 10</td><td>1171</td></tr>\n",
       "\t<tr><th scope=row>5</th><td>100</td><td>  17</td></tr>\n",
       "\t<tr><th scope=row>6</th><td>101</td><td>  32</td></tr>\n",
       "\t<tr><th scope=row>7</th><td>102</td><td>  40</td></tr>\n",
       "\t<tr><th scope=row>8</th><td>103</td><td>  22</td></tr>\n",
       "</tbody>\n",
       "</table>\n"
      ],
      "text/latex": [
       "A data.frame: 6 × 2\n",
       "\\begin{tabular}{r|ll}\n",
       "  & Var1 & Freq\\\\\n",
       "  & <dbl> & <int>\\\\\n",
       "\\hline\n",
       "\t3 &   1 &  129\\\\\n",
       "\t4 &  10 & 1171\\\\\n",
       "\t5 & 100 &   17\\\\\n",
       "\t6 & 101 &   32\\\\\n",
       "\t7 & 102 &   40\\\\\n",
       "\t8 & 103 &   22\\\\\n",
       "\\end{tabular}\n"
      ],
      "text/markdown": [
       "\n",
       "A data.frame: 6 × 2\n",
       "\n",
       "| <!--/--> | Var1 &lt;dbl&gt; | Freq &lt;int&gt; |\n",
       "|---|---|---|\n",
       "| 3 |   1 |  129 |\n",
       "| 4 |  10 | 1171 |\n",
       "| 5 | 100 |   17 |\n",
       "| 6 | 101 |   32 |\n",
       "| 7 | 102 |   40 |\n",
       "| 8 | 103 |   22 |\n",
       "\n"
      ],
      "text/plain": [
       "  Var1 Freq\n",
       "3   1   129\n",
       "4  10  1171\n",
       "5 100    17\n",
       "6 101    32\n",
       "7 102    40\n",
       "8 103    22"
      ]
     },
     "metadata": {},
     "output_type": "display_data"
    }
   ],
   "source": [
    "head(injury_days)"
   ]
  },
  {
   "cell_type": "code",
   "execution_count": 18,
   "id": "8c912205",
   "metadata": {},
   "outputs": [
    {
     "data": {
      "text/html": [
       "<style>\n",
       ".list-inline {list-style: none; margin:0; padding: 0}\n",
       ".list-inline>li {display: inline-block}\n",
       ".list-inline>li:not(:last-child)::after {content: \"\\00b7\"; padding: 0 .5ex}\n",
       "</style>\n",
       "<ol class=list-inline><li>'Var1'</li><li>'Freq'</li></ol>\n"
      ],
      "text/latex": [
       "\\begin{enumerate*}\n",
       "\\item 'Var1'\n",
       "\\item 'Freq'\n",
       "\\end{enumerate*}\n"
      ],
      "text/markdown": [
       "1. 'Var1'\n",
       "2. 'Freq'\n",
       "\n",
       "\n"
      ],
      "text/plain": [
       "[1] \"Var1\" \"Freq\""
      ]
     },
     "metadata": {},
     "output_type": "display_data"
    }
   ],
   "source": [
    "colnames(injury_days)"
   ]
  },
  {
   "cell_type": "code",
   "execution_count": 52,
   "id": "6a7fcf9d",
   "metadata": {},
   "outputs": [
    {
     "name": "stderr",
     "output_type": "stream",
     "text": [
      "Warning message:\n",
      "“\u001b[1m\u001b[22mRemoved 286 rows containing missing values or values outside the scale range\n",
      "(`geom_bar()`).”\n"
     ]
    },
    {
     "data": {
      "image/png": "[encoded data removed]",
      "text/plain": [
       "plot without title"
      ]
     },
     "metadata": {
      "image/png": {
       "height": 420,
       "width": 420
      }
     },
     "output_type": "display_data"
    }
   ],
   "source": [
    "ggplot(injury_days, aes(x = Var1, y = Freq)) +\n",
    "  geom_bar(stat = 'identity', fill = 'steelblue') +\n",
    "  theme_minimal() +\n",
    "  labs(title = \"Frequency of Days for Recovery After Injury\",\n",
    "       x = \"Days\",\n",
    "       y = \"Frequency\") +\n",
    "  theme(axis.text.x = element_text(angle = 45, hjust = 1)) + \n",
    "    xlim(0, 100)"
   ]
  },
  {
   "cell_type": "code",
   "execution_count": 53,
   "id": "9e3dd3a8",
   "metadata": {},
   "outputs": [
    {
     "name": "stderr",
     "output_type": "stream",
     "text": [
      "Warning message:\n",
      "“\u001b[1m\u001b[22mRemoved 366 rows containing missing values or values outside the scale range\n",
      "(`geom_bar()`).”\n"
     ]
    },
    {
     "data": {
      "image/png": "[encoded data removed]",
      "text/plain": [
       "plot without title"
      ]
     },
     "metadata": {
      "image/png": {
       "height": 420,
       "width": 420
      }
     },
     "output_type": "display_data"
    }
   ],
   "source": [
    "ggplot(injury_days, aes(x = Var1, y = Freq)) +\n",
    "  geom_bar(stat = 'identity', fill = 'steelblue') +\n",
    "  theme_minimal() +\n",
    "  labs(title = \"Frequency of Days for Recovery After Injury\",\n",
    "       x = \"Days\",\n",
    "       y = \"Frequency\") +\n",
    "  theme(axis.text.x = element_text(angle = 45, hjust = 1)) + \n",
    "    xlim(0, 20)"
   ]
  },
  {
   "cell_type": "code",
   "execution_count": null,
   "id": "5eadff64",
   "metadata": {},
   "outputs": [],
   "source": []
  }
 ],
 "metadata": {
  "kernelspec": {
   "display_name": "R",
   "language": "R",
   "name": "ir"
  },
  "language_info": {
   "codemirror_mode": "r",
   "file_extension": ".r",
   "mimetype": "text/x-r-source",
   "name": "R",
   "pygments_lexer": "r",
   "version": "4.3.3"
  }
 },
 "nbformat": 4,
 "nbformat_minor": 5
}
